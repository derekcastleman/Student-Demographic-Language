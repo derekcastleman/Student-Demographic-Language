{
 "cells": [
  {
   "cell_type": "markdown",
   "id": "1e13c5a3",
   "metadata": {},
   "source": [
    "## Student Demographic\n",
    "\n",
    "Generating a sheet that combines the student demographics for students for use in the teacher dashboard sheets."
   ]
  },
  {
   "cell_type": "code",
   "execution_count": null,
   "id": "048c7b76",
   "metadata": {},
   "outputs": [],
   "source": [
    "import numpy as np\n",
    "import pandas as pd"
   ]
  },
  {
   "cell_type": "code",
   "execution_count": null,
   "id": "87e8031a",
   "metadata": {},
   "outputs": [],
   "source": [
    "students = pd.read_excel(r\"C:\\Users\\derek.castleman\\Desktop\\Roster Teacher Sheets.xlsx\") # Loading student data\n",
    "students "
   ]
  },
  {
   "cell_type": "code",
   "execution_count": null,
   "id": "acfe8b5e",
   "metadata": {},
   "outputs": [],
   "source": [
    "language = pd.read_excel(r\"C:\\Users\\derek.castleman\\Desktop\\Tests ELPAC.xlsx\") # Loading language data\n",
    "language"
   ]
  },
  {
   "cell_type": "code",
   "execution_count": null,
   "id": "a738c152",
   "metadata": {},
   "outputs": [],
   "source": [
    "merge = pd.merge(students, language, how='left', on='Student ID') # Merging students with language\n",
    "merge"
   ]
  },
  {
   "cell_type": "code",
   "execution_count": null,
   "id": "1a977fb1",
   "metadata": {},
   "outputs": [],
   "source": [
    "# Merging the language level column and replacing the values where language equals L\n",
    "merge['LangFlu'] = np.where(merge['LangFlu'] ==\"L\", merge['PerformLvl'], merge['LangFlu'])\n",
    "merge"
   ]
  },
  {
   "cell_type": "code",
   "execution_count": null,
   "id": "a91742e1",
   "metadata": {},
   "outputs": [],
   "source": [
    "merge = merge.rename(columns=({'LangFlu':'Language', 'Description_CSE_DI':'SPED'}))\n",
    "merge"
   ]
  },
  {
   "cell_type": "code",
   "execution_count": null,
   "id": "84363133",
   "metadata": {},
   "outputs": [],
   "source": [
    "merge = merge.drop(columns=['PerformLvl'])\n",
    "merge"
   ]
  },
  {
   "cell_type": "code",
   "execution_count": null,
   "id": "f8d30087",
   "metadata": {},
   "outputs": [],
   "source": []
  },
  {
   "cell_type": "code",
   "execution_count": null,
   "id": "56580d26",
   "metadata": {},
   "outputs": [],
   "source": [
    "import base64\n",
    "from IPython.display import HTML\n",
    "\n",
    "def create_download_link( df, title = \"Student Demo\", filename = \"Student Demo\"):\n",
    "    csv = df.to_csv(index=False)\n",
    "    b64 = base64.b64encode(csv.encode())\n",
    "    payload = b64.decode()\n",
    "    html = '<a download=\"{filename}\" href=\"data:text/csv;base64,{payload}\" target=\"_blank\">{title}</a>'\n",
    "    html = html.format(payload=payload,title=title,filename=filename)\n",
    "    return HTML(html)\n",
    "\n",
    "create_download_link(merge)"
   ]
  },
  {
   "cell_type": "code",
   "execution_count": null,
   "id": "142678a8",
   "metadata": {},
   "outputs": [],
   "source": []
  }
 ],
 "metadata": {
  "kernelspec": {
   "display_name": "Python 3 (ipykernel)",
   "language": "python",
   "name": "python3"
  },
  "language_info": {
   "codemirror_mode": {
    "name": "ipython",
    "version": 3
   },
   "file_extension": ".py",
   "mimetype": "text/x-python",
   "name": "python",
   "nbconvert_exporter": "python",
   "pygments_lexer": "ipython3",
   "version": "3.9.7"
  }
 },
 "nbformat": 4,
 "nbformat_minor": 5
}
